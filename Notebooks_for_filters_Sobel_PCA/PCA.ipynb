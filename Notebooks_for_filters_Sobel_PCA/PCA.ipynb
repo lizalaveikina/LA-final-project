{
  "cells": [
    {
      "cell_type": "markdown",
      "metadata": {},
      "source": [
        "# **PCA**"
      ]
    },
    {
      "cell_type": "markdown",
      "metadata": {},
      "source": [
        "**Principal Component Analysis (PCA)** is a dimensionality reduction technique widely\n",
        "used in data analysis and machine learning. \n",
        "\n",
        "Its primary goal is to transform high-dimensional data into a lower-dimensional representation, capturing the most important\n",
        "information."
      ]
    },
    {
      "cell_type": "markdown",
      "metadata": {},
      "source": [
        "*HOW DO YOU DO A PRINCIPAL COMPONENT ANALYSIS?*\n",
        "\n",
        "1. Standardize the range of continuous initial variables\n",
        "2. Compute the covariance matrix to identify correlations\n",
        "3. Compute the eigenvectors and eigenvalues of the covariance matrix to identify the principal components\n",
        "4. Create a feature vector to decide which principal components to keep\n",
        "5. Recast the data along the principal components axes"
      ]
    },
    {
      "cell_type": "markdown",
      "metadata": {},
      "source": [
        "**Principal components** are new variables that are constructed as linear combinations or mixtures of the initial variables. These combinations are done in such a way that the new variables are uncorrelated and most of the information within the initial variables is squeezed or compressed into the first components. "
      ]
    },
    {
      "cell_type": "markdown",
      "metadata": {},
      "source": [
        "<div style=\"text-align:center;\">\n",
        "    <img src=\"pca.png\" alt=\"Example Image\" width=\"500\">\n",
        "</div>"
      ]
    },
    {
      "cell_type": "markdown",
      "metadata": {},
      "source": [
        "### *Advantages*"
      ]
    },
    {
      "cell_type": "markdown",
      "metadata": {
        "id": "Na_KtgNUqNkZ"
      },
      "source": [
        "1. **Dimensionality reduction:** PCA effectively reduces the number of features, which is beneficial for models that\n",
        "suffer from the curse of dimensionality.\n",
        "\n",
        "2. **Feature independence:** Principal components are orthogonal (uncorrelated), meaning they capture independent information, simplifying the interpretation of the reduced features.\n",
        "\n",
        "3. **Noise reduction:** PCA can help reduce noise by focusing on the components that explain the most\n",
        "significant variance in the data."
      ]
    },
    {
      "cell_type": "code",
      "execution_count": 3,
      "metadata": {
        "id": "YPZSV-blTkTg"
      },
      "outputs": [],
      "source": [
        "import os\n",
        "import numpy as np\n",
        "import matplotlib.pyplot as plt\n",
        "import ipywidgets as widget\n",
        "import plotly.graph_objs as go\n",
        "from PIL import Image\n",
        "from sklearn.metrics import mean_squared_error as mse\n",
        "from ipywidgets import interact, fixed\n",
        "import cv2 as cv\n"
      ]
    },
    {
      "cell_type": "markdown",
      "metadata": {
        "id": "i_4VtheBFKf8"
      },
      "source": [
        "### **Step 1:** Data loading"
      ]
    },
    {
      "cell_type": "markdown",
      "metadata": {},
      "source": [
        "Firstly, we need to dowload our data and prepare it for further manipulations.\n",
        "\n",
        "In this part we read grayscale images from our dataset, resize them to the same size (100x100 pixels), flattens them, and stores them as column vectors in a NumPy array."
      ]
    },
    {
      "cell_type": "code",
      "execution_count": 4,
      "metadata": {
        "id": "WdD0l288TnAw"
      },
      "outputs": [],
      "source": [
        "path = '../brain_aneurysm_dataset/no'\n",
        "\n",
        "A = []\n",
        "A_flatten = []\n",
        "\n",
        "size = 100\n",
        "\n",
        "for img in os.listdir(path):\n",
        "\n",
        "    image = cv.imread(os.path.join(path, img), cv.IMREAD_GRAYSCALE)\n",
        "    \n",
        "    # convert to matrix\n",
        "    matrix = Image.fromarray(image)\n",
        "\n",
        "    # resize\n",
        "    resize_img = np.array(matrix.resize((size, size)))\n",
        "\n",
        "    A.append(resize_img)\n",
        "\n",
        "    # flatten\n",
        "    image_flatten = resize_img.flatten()\n",
        "\n",
        "    A_flatten.append(image_flatten)\n",
        "\n",
        "# numpy array\n",
        "A_flatten = np.asarray(A_flatten)\n",
        "\n",
        "# transposed\n",
        "A_flatten = A_flatten.T"
      ]
    },
    {
      "cell_type": "code",
      "execution_count": 5,
      "metadata": {},
      "outputs": [
        {
          "data": {
            "text/plain": [
              "array([  1,  16,   3,   0,   0,   0,   4,   0,   0,   0,  27,   0,   0,\n",
              "         0,   7,   0,   0,  10,   0,   0,  99,   0,   3,   0,   2,  45,\n",
              "         0,   0,   0,   0,  11,  10,   0,  67,   0,   0,  16,   2,  77,\n",
              "         0,   0,   1,   0,  23,   0, 252,   2,   0,   3,   1,   0,   4,\n",
              "         3,   9,   0,  26,   0,   0,   0,   0,   2,   3,  12,   0,  35,\n",
              "         7,   0,   2,   1,   0], dtype=uint8)"
            ]
          },
          "execution_count": 5,
          "metadata": {},
          "output_type": "execute_result"
        }
      ],
      "source": [
        "A_flatten[0]"
      ]
    },
    {
      "cell_type": "markdown",
      "metadata": {},
      "source": [
        "### **Step 2:** Data normalization"
      ]
    },
    {
      "cell_type": "markdown",
      "metadata": {
        "id": "mLQ8OqABFRnM"
      },
      "source": [
        "PCA is sensitive to the scale of the data. Standardizing the features ensures that each feature contributes equally to the analysis. It involves scaling the features to have a *mean* of 0 and a *standard deviation* of 1.\n",
        "\n",
        "By subtracting the mean of each feature from the dataset it centers the data around the origin. This step ensures that the first principal component captures the direction of maximum variance.\n",
        "\n",
        "This process ensures that the variables are standardized, allowing for a fair and unbiased comparison among them."
      ]
    },
    {
      "cell_type": "code",
      "execution_count": 6,
      "metadata": {
        "id": "vM4DPo5OT7gu"
      },
      "outputs": [],
      "source": [
        "def normalization(A):\n",
        "\n",
        "    # column mean and standard deviation\n",
        "    mu = np.mean(A, axis = 0)\n",
        "    std = np.std(A, axis = 0)  \n",
        "    \n",
        "    # substract the mean from A\n",
        "    A_centered = A - mu   \n",
        "    \n",
        "    # zero devizion\n",
        "    std_filled = std.copy()\n",
        "    std_filled[std == 0] = 1\n",
        "    \n",
        "    # normalized A\n",
        "    A_norm = A_centered / std_filled\n",
        "    \n",
        "    return A_norm, mu, std"
      ]
    },
    {
      "cell_type": "code",
      "execution_count": 7,
      "metadata": {
        "id": "IKTXiLI6UC7f"
      },
      "outputs": [
        {
          "data": {
            "text/plain": [
              "(array([-0.75057428, -0.78146657, -0.81806781, -0.84981493, -0.78832268,\n",
              "        -0.73458662, -0.78546455, -0.85359589, -1.03930308, -0.86119516,\n",
              "        -1.32129468, -0.85418103, -0.63179615, -1.09521945, -1.01184732,\n",
              "        -1.01479543, -0.81366399, -0.76981093, -0.98875834, -0.76674641,\n",
              "         0.98719965, -0.8525469 , -1.01760369, -0.55204478, -1.05332863,\n",
              "         0.23295598, -1.16999486, -1.09591614, -0.99099847, -0.66535457,\n",
              "        -1.2074218 , -0.76927773, -0.85359589,  0.67699491, -1.16999486,\n",
              "        -0.79636922, -0.77118396, -1.05332863,  0.83283191, -1.12230673,\n",
              "        -0.64567761, -0.88807423, -0.96451991, -1.00437391, -1.08807415,\n",
              "         2.22382554, -1.09458609, -1.01475946, -1.02564313, -0.95476697,\n",
              "        -0.65226068, -1.1859063 , -1.01760369, -1.18466176, -0.65079856,\n",
              "        -0.90420934, -0.65226068, -0.89889429, -0.76399282, -0.7736369 ,\n",
              "        -1.30896572, -1.02564313, -0.98577267, -0.85418103, -0.72556173,\n",
              "        -1.11364224, -0.8525469 , -1.30896572, -0.67924711, -0.50511684]),\n",
              " 35.114,\n",
              " 45.45053139403322)"
            ]
          },
          "execution_count": 7,
          "metadata": {},
          "output_type": "execute_result"
        }
      ],
      "source": [
        "A_norm, mu, std = normalization(A_flatten)\n",
        "A_norm[0], mu[0], std[0]"
      ]
    },
    {
      "cell_type": "markdown",
      "metadata": {},
      "source": [
        "### **Step 3:** Computing the covariance matrix"
      ]
    },
    {
      "cell_type": "markdown",
      "metadata": {
        "id": "iUosKNKAHvqk"
      },
      "source": [
        "The covariance matrix summarizes the pairwise covariances between the different features in the dataset. It's a square matrix where each element represents the covariance between two features.\n",
        "\n",
        "This matrix helps us to understand how the features are related to each other. If certain features are highly correlated, it suggests that they provide similar information. By examining the covariance matrix, we can determine which features to remove in order to eliminate redundancy.\n",
        "\n",
        "Mathematically, the covariance between two variables $X_i$ and $X_j$ is calculated as:\n",
        "\n",
        "$$Cov(X_i, X_j) = \\frac{1}{n-1} \\sum_{k=1}^{n} (x_{ik} - \\bar{x}_i)(x_{jk} - \\bar{x}_j)$$\n",
        "\n"
      ]
    },
    {
      "cell_type": "code",
      "execution_count": 8,
      "metadata": {
        "id": "JjQqAPiLUB4z"
      },
      "outputs": [],
      "source": [
        "def covariance(A):\n",
        "\n",
        "    # covariance matrix S\n",
        "    S = 1 / (len(A) - 1) * np.matmul(A, A.T)\n",
        "    \n",
        "    return S"
      ]
    },
    {
      "cell_type": "code",
      "execution_count": 9,
      "metadata": {},
      "outputs": [
        {
          "data": {
            "text/plain": [
              "array([0.00637285, 0.00603807, 0.00594348, ..., 0.00598129, 0.00609126,\n",
              "       0.00655558])"
            ]
          },
          "execution_count": 9,
          "metadata": {},
          "output_type": "execute_result"
        }
      ],
      "source": [
        "A_covariance = covariance(A_norm)\n",
        "A_covariance[0]"
      ]
    },
    {
      "cell_type": "markdown",
      "metadata": {},
      "source": [
        "### **Step 4:** Computing eigenvectors and eigenvalues of covariance matrix"
      ]
    },
    {
      "cell_type": "markdown",
      "metadata": {},
      "source": [
        "Eigenvectors are the directions along which the data varies the most. They represent the principal components of the data.\n",
        "As the covariance matrix is symmetric all eigenvectors are pairwise orthogonal.\n",
        "\n",
        "Eigenvalues indicate the variance of the data along the corresponding eigenvectors. Larger eigenvalues correspond to directions of greater variance.\n",
        "\n",
        "The eigenvector that corresponds to the largest eigenvalue identifies the direction of maximum variance, which is considered as the *first principal component*, second largest variance represents the *second principal component*, and so on.\n",
        "\n",
        "The eigenvectors and eigenvalues are typically computed by performing eigendecomposition on the covariance matrix."
      ]
    },
    {
      "cell_type": "code",
      "execution_count": 10,
      "metadata": {},
      "outputs": [],
      "source": [
        "def eigenvalues_vectors(A):\n",
        "\n",
        "    # eigenvalues and eigenvectors\n",
        "    EV, EVc = np.linalg.eigh(A)  \n",
        "\n",
        "    # desceding order\n",
        "    order = np.argsort(-EV)\n",
        "    EV = EV[order]\n",
        "    EVc = EVc[:, order]\n",
        "    \n",
        "    return EV, EVc"
      ]
    },
    {
      "cell_type": "markdown",
      "metadata": {},
      "source": [
        "### **Step 5:** Calculating the projection matrix"
      ]
    },
    {
      "cell_type": "markdown",
      "metadata": {},
      "source": [
        "This step involves transforming the original data onto the new subspace spanned by the selected principal components.\n",
        "\n",
        "The projection is done by multiplying the original data matrix by the matrix of selected eigenvectors.\n",
        "\n",
        "The projected data represents the dataset in the reduced-dimensional space defined by the principal components."
      ]
    },
    {
      "cell_type": "code",
      "execution_count": 11,
      "metadata": {},
      "outputs": [],
      "source": [
        "def PCA(A, components):\n",
        "    \n",
        "    S = covariance(A)\n",
        "    \n",
        "    EV, EVc = eigenvalues_vectors(S)\n",
        "    U = EVc[:, range(components)]\n",
        "    \n",
        "    # projection matrix which projects our input data onto vector space spanned by the eigenvectors\n",
        "    P = np.matmul(U, U.T)\n",
        "    \n",
        "    return P"
      ]
    },
    {
      "cell_type": "markdown",
      "metadata": {},
      "source": [
        "### **Step 6:** Calculating loss"
      ]
    },
    {
      "cell_type": "markdown",
      "metadata": {},
      "source": [
        "In this part, we calculate the reconstruction error between the original data and the transformed data for each number of components.\n",
        "\n",
        "The goal is to evaluate how well the dataset can be represented and reconstructed in a lower-dimensional space using different numbers of principal components, and to analyze how the reconstruction error changes as the number of components varies."
      ]
    },
    {
      "cell_type": "code",
      "execution_count": 12,
      "metadata": {
        "id": "Bgb6y26PUFsW"
      },
      "outputs": [],
      "source": [
        "losage = []\n",
        "transformation = []\n",
        "\n",
        "component_max_number = len(np.array(A_flatten).T)\n",
        "\n",
        "for component in range(1, component_max_number + 1):\n",
        "\n",
        "    P = PCA(A_norm.T, component)\n",
        "    y_T = np.matmul(A_flatten, P)\n",
        "    error = mse(y_T, A_flatten)\n",
        "    transformation.append(y_T)\n",
        "    losage.append((component, error))\n"
      ]
    },
    {
      "cell_type": "markdown",
      "metadata": {
        "id": "1z3_tLRjb2YQ"
      },
      "source": [
        "### **Step 7:** Number of principal components analysis"
      ]
    },
    {
      "cell_type": "markdown",
      "metadata": {},
      "source": [
        "In this part of the code we aim to provide an interactive way to visualize the reconstructed images by adjusting the number of principal components used in the PCA reconstruction process.\n",
        "\n",
        "As we can observe, the more principal components we choose, the better quality our image has."
      ]
    },
    {
      "cell_type": "code",
      "execution_count": 13,
      "metadata": {
        "id": "z-wLZCoaUGui"
      },
      "outputs": [],
      "source": [
        "transformation = np.asarray(transformation)\n",
        "losage = np.asarray(losage)"
      ]
    },
    {
      "cell_type": "code",
      "execution_count": 14,
      "metadata": {
        "colab": {
          "base_uri": "https://localhost:8080/",
          "height": 465,
          "referenced_widgets": [
            "56eddbeb75954842b7d6acbb3c060c5a",
            "6c9072c4c4c640cfb85c264d42ebac79",
            "66ea6cdca66c4f3ebf31b98c7580ba5b",
            "170e6020f56d49ae9fbed55cbff3b9b5",
            "3ae966636a8b4156bbfffa797618a512",
            "ff382ee3b0444dbea85e35465c3922b1",
            "4359063566d240aeb0c5dd602b5404ce"
          ]
        },
        "id": "Spa7Xuhm9OJG",
        "outputId": "bccc0813-b577-4893-c8b6-2363f8bf5478"
      },
      "outputs": [
        {
          "data": {
            "application/vnd.jupyter.widget-view+json": {
              "model_id": "504f06476cc64c78882e58838eb73a59",
              "version_major": 2,
              "version_minor": 0
            },
            "text/plain": [
              "interactive(children=(IntSlider(value=10, description='components', max=69, min=1), Output()), _dom_classes=('…"
            ]
          },
          "metadata": {},
          "output_type": "display_data"
        }
      ],
      "source": [
        "@interact(components=widget.IntSlider(min = 1, max = component_max_number - 1, value=10), image=fixed(image))\n",
        "\n",
        "def display_pca_image(components, image):\n",
        "    plt.imshow(transformation[components, : , 0].reshape(100, 100), cmap='gray')\n",
        "    plt.show()\n",
        "    "
      ]
    },
    {
      "cell_type": "markdown",
      "metadata": {},
      "source": [
        "### **Step 8:** Visualization"
      ]
    },
    {
      "cell_type": "markdown",
      "metadata": {},
      "source": [
        "Now, let's visualize how MSE changes depending on number of principal components."
      ]
    },
    {
      "cell_type": "code",
      "execution_count": 15,
      "metadata": {
        "colab": {
          "base_uri": "https://localhost:8080/",
          "height": 542
        },
        "id": "YlnA2uyqGhxK",
        "outputId": "8396348b-53a7-44ab-93af-4d9ea5332f9c"
      },
      "outputs": [
        {
          "data": {
            "application/vnd.plotly.v1+json": {
              "config": {
                "plotlyServerURL": "https://plot.ly"
              },
              "data": [
                {
                  "marker": {
                    "color": "red"
                  },
                  "mode": "markers",
                  "type": "scatter",
                  "x": [
                    1,
                    2,
                    3,
                    4,
                    5,
                    6,
                    7,
                    8,
                    9,
                    10,
                    11,
                    12,
                    13,
                    14,
                    15,
                    16,
                    17,
                    18,
                    19,
                    20,
                    21,
                    22,
                    23,
                    24,
                    25,
                    26,
                    27,
                    28,
                    29,
                    30,
                    31,
                    32,
                    33,
                    34,
                    35,
                    36,
                    37,
                    38,
                    39,
                    40,
                    41,
                    42,
                    43,
                    44,
                    45,
                    46,
                    47,
                    48,
                    49,
                    50,
                    51,
                    52,
                    53,
                    54,
                    55,
                    56,
                    57,
                    58,
                    59,
                    60,
                    61,
                    62,
                    63,
                    64,
                    65,
                    66,
                    67,
                    68,
                    69,
                    70
                  ],
                  "y": [
                    1751.2496415373494,
                    1529.0785343896896,
                    1322.7560927771008,
                    1246.7168973260016,
                    1163.2586922795163,
                    1100.2686502329125,
                    1035.8670968792871,
                    987.1266887185078,
                    945.483572011468,
                    905.3366762544272,
                    858.9865244538516,
                    824.1404503771001,
                    786.7767018402967,
                    742.1411293824101,
                    712.0400959618016,
                    682.4863712135227,
                    658.1702533954223,
                    636.9154115252916,
                    609.7839745963108,
                    583.2173533067246,
                    552.6280562643734,
                    529.219487844608,
                    509.5888619745575,
                    489.3442615891808,
                    465.709954349449,
                    439.7462557258131,
                    410.2046200100132,
                    394.13579990493133,
                    378.42950347681926,
                    361.5257154086335,
                    343.1028550003158,
                    326.11314006916126,
                    301.5532179010452,
                    278.9807924654896,
                    264.9937661597831,
                    251.12469453026534,
                    233.3477871737775,
                    220.76492037628682,
                    208.19279833003807,
                    188.31780484626842,
                    168.01438181686154,
                    154.44995009752168,
                    144.5587496634073,
                    134.03887807004114,
                    117.42177630353386,
                    105.88715298018677,
                    81.24468280248301,
                    72.30509049178325,
                    52.97270302480672,
                    43.45261825112917,
                    25.985105294567745,
                    15.502447510492866,
                    3.677292410221907,
                    0.15698567207013273,
                    0.10345911096516425,
                    0.07575079235460044,
                    0.05769270354560575,
                    0.04243498132484149,
                    0.02814055741448959,
                    0.01134158810194721,
                    1.4824132870373847e-24,
                    1.4754839826617826e-24,
                    1.4668855927063142e-24,
                    1.3993829643782062e-24,
                    1.39701888366452e-24,
                    1.1661778586589715e-24,
                    1.1595604488107464e-24,
                    5.903098433815774e-25,
                    5.732700139618526e-25,
                    4.8221560666237824e-27
                  ]
                }
              ],
              "layout": {
                "template": {
                  "data": {
                    "bar": [
                      {
                        "error_x": {
                          "color": "#2a3f5f"
                        },
                        "error_y": {
                          "color": "#2a3f5f"
                        },
                        "marker": {
                          "line": {
                            "color": "#E5ECF6",
                            "width": 0.5
                          },
                          "pattern": {
                            "fillmode": "overlay",
                            "size": 10,
                            "solidity": 0.2
                          }
                        },
                        "type": "bar"
                      }
                    ],
                    "barpolar": [
                      {
                        "marker": {
                          "line": {
                            "color": "#E5ECF6",
                            "width": 0.5
                          },
                          "pattern": {
                            "fillmode": "overlay",
                            "size": 10,
                            "solidity": 0.2
                          }
                        },
                        "type": "barpolar"
                      }
                    ],
                    "carpet": [
                      {
                        "aaxis": {
                          "endlinecolor": "#2a3f5f",
                          "gridcolor": "white",
                          "linecolor": "white",
                          "minorgridcolor": "white",
                          "startlinecolor": "#2a3f5f"
                        },
                        "baxis": {
                          "endlinecolor": "#2a3f5f",
                          "gridcolor": "white",
                          "linecolor": "white",
                          "minorgridcolor": "white",
                          "startlinecolor": "#2a3f5f"
                        },
                        "type": "carpet"
                      }
                    ],
                    "choropleth": [
                      {
                        "colorbar": {
                          "outlinewidth": 0,
                          "ticks": ""
                        },
                        "type": "choropleth"
                      }
                    ],
                    "contour": [
                      {
                        "colorbar": {
                          "outlinewidth": 0,
                          "ticks": ""
                        },
                        "colorscale": [
                          [
                            0,
                            "#0d0887"
                          ],
                          [
                            0.1111111111111111,
                            "#46039f"
                          ],
                          [
                            0.2222222222222222,
                            "#7201a8"
                          ],
                          [
                            0.3333333333333333,
                            "#9c179e"
                          ],
                          [
                            0.4444444444444444,
                            "#bd3786"
                          ],
                          [
                            0.5555555555555556,
                            "#d8576b"
                          ],
                          [
                            0.6666666666666666,
                            "#ed7953"
                          ],
                          [
                            0.7777777777777778,
                            "#fb9f3a"
                          ],
                          [
                            0.8888888888888888,
                            "#fdca26"
                          ],
                          [
                            1,
                            "#f0f921"
                          ]
                        ],
                        "type": "contour"
                      }
                    ],
                    "contourcarpet": [
                      {
                        "colorbar": {
                          "outlinewidth": 0,
                          "ticks": ""
                        },
                        "type": "contourcarpet"
                      }
                    ],
                    "heatmap": [
                      {
                        "colorbar": {
                          "outlinewidth": 0,
                          "ticks": ""
                        },
                        "colorscale": [
                          [
                            0,
                            "#0d0887"
                          ],
                          [
                            0.1111111111111111,
                            "#46039f"
                          ],
                          [
                            0.2222222222222222,
                            "#7201a8"
                          ],
                          [
                            0.3333333333333333,
                            "#9c179e"
                          ],
                          [
                            0.4444444444444444,
                            "#bd3786"
                          ],
                          [
                            0.5555555555555556,
                            "#d8576b"
                          ],
                          [
                            0.6666666666666666,
                            "#ed7953"
                          ],
                          [
                            0.7777777777777778,
                            "#fb9f3a"
                          ],
                          [
                            0.8888888888888888,
                            "#fdca26"
                          ],
                          [
                            1,
                            "#f0f921"
                          ]
                        ],
                        "type": "heatmap"
                      }
                    ],
                    "heatmapgl": [
                      {
                        "colorbar": {
                          "outlinewidth": 0,
                          "ticks": ""
                        },
                        "colorscale": [
                          [
                            0,
                            "#0d0887"
                          ],
                          [
                            0.1111111111111111,
                            "#46039f"
                          ],
                          [
                            0.2222222222222222,
                            "#7201a8"
                          ],
                          [
                            0.3333333333333333,
                            "#9c179e"
                          ],
                          [
                            0.4444444444444444,
                            "#bd3786"
                          ],
                          [
                            0.5555555555555556,
                            "#d8576b"
                          ],
                          [
                            0.6666666666666666,
                            "#ed7953"
                          ],
                          [
                            0.7777777777777778,
                            "#fb9f3a"
                          ],
                          [
                            0.8888888888888888,
                            "#fdca26"
                          ],
                          [
                            1,
                            "#f0f921"
                          ]
                        ],
                        "type": "heatmapgl"
                      }
                    ],
                    "histogram": [
                      {
                        "marker": {
                          "pattern": {
                            "fillmode": "overlay",
                            "size": 10,
                            "solidity": 0.2
                          }
                        },
                        "type": "histogram"
                      }
                    ],
                    "histogram2d": [
                      {
                        "colorbar": {
                          "outlinewidth": 0,
                          "ticks": ""
                        },
                        "colorscale": [
                          [
                            0,
                            "#0d0887"
                          ],
                          [
                            0.1111111111111111,
                            "#46039f"
                          ],
                          [
                            0.2222222222222222,
                            "#7201a8"
                          ],
                          [
                            0.3333333333333333,
                            "#9c179e"
                          ],
                          [
                            0.4444444444444444,
                            "#bd3786"
                          ],
                          [
                            0.5555555555555556,
                            "#d8576b"
                          ],
                          [
                            0.6666666666666666,
                            "#ed7953"
                          ],
                          [
                            0.7777777777777778,
                            "#fb9f3a"
                          ],
                          [
                            0.8888888888888888,
                            "#fdca26"
                          ],
                          [
                            1,
                            "#f0f921"
                          ]
                        ],
                        "type": "histogram2d"
                      }
                    ],
                    "histogram2dcontour": [
                      {
                        "colorbar": {
                          "outlinewidth": 0,
                          "ticks": ""
                        },
                        "colorscale": [
                          [
                            0,
                            "#0d0887"
                          ],
                          [
                            0.1111111111111111,
                            "#46039f"
                          ],
                          [
                            0.2222222222222222,
                            "#7201a8"
                          ],
                          [
                            0.3333333333333333,
                            "#9c179e"
                          ],
                          [
                            0.4444444444444444,
                            "#bd3786"
                          ],
                          [
                            0.5555555555555556,
                            "#d8576b"
                          ],
                          [
                            0.6666666666666666,
                            "#ed7953"
                          ],
                          [
                            0.7777777777777778,
                            "#fb9f3a"
                          ],
                          [
                            0.8888888888888888,
                            "#fdca26"
                          ],
                          [
                            1,
                            "#f0f921"
                          ]
                        ],
                        "type": "histogram2dcontour"
                      }
                    ],
                    "mesh3d": [
                      {
                        "colorbar": {
                          "outlinewidth": 0,
                          "ticks": ""
                        },
                        "type": "mesh3d"
                      }
                    ],
                    "parcoords": [
                      {
                        "line": {
                          "colorbar": {
                            "outlinewidth": 0,
                            "ticks": ""
                          }
                        },
                        "type": "parcoords"
                      }
                    ],
                    "pie": [
                      {
                        "automargin": true,
                        "type": "pie"
                      }
                    ],
                    "scatter": [
                      {
                        "fillpattern": {
                          "fillmode": "overlay",
                          "size": 10,
                          "solidity": 0.2
                        },
                        "type": "scatter"
                      }
                    ],
                    "scatter3d": [
                      {
                        "line": {
                          "colorbar": {
                            "outlinewidth": 0,
                            "ticks": ""
                          }
                        },
                        "marker": {
                          "colorbar": {
                            "outlinewidth": 0,
                            "ticks": ""
                          }
                        },
                        "type": "scatter3d"
                      }
                    ],
                    "scattercarpet": [
                      {
                        "marker": {
                          "colorbar": {
                            "outlinewidth": 0,
                            "ticks": ""
                          }
                        },
                        "type": "scattercarpet"
                      }
                    ],
                    "scattergeo": [
                      {
                        "marker": {
                          "colorbar": {
                            "outlinewidth": 0,
                            "ticks": ""
                          }
                        },
                        "type": "scattergeo"
                      }
                    ],
                    "scattergl": [
                      {
                        "marker": {
                          "colorbar": {
                            "outlinewidth": 0,
                            "ticks": ""
                          }
                        },
                        "type": "scattergl"
                      }
                    ],
                    "scattermapbox": [
                      {
                        "marker": {
                          "colorbar": {
                            "outlinewidth": 0,
                            "ticks": ""
                          }
                        },
                        "type": "scattermapbox"
                      }
                    ],
                    "scatterpolar": [
                      {
                        "marker": {
                          "colorbar": {
                            "outlinewidth": 0,
                            "ticks": ""
                          }
                        },
                        "type": "scatterpolar"
                      }
                    ],
                    "scatterpolargl": [
                      {
                        "marker": {
                          "colorbar": {
                            "outlinewidth": 0,
                            "ticks": ""
                          }
                        },
                        "type": "scatterpolargl"
                      }
                    ],
                    "scatterternary": [
                      {
                        "marker": {
                          "colorbar": {
                            "outlinewidth": 0,
                            "ticks": ""
                          }
                        },
                        "type": "scatterternary"
                      }
                    ],
                    "surface": [
                      {
                        "colorbar": {
                          "outlinewidth": 0,
                          "ticks": ""
                        },
                        "colorscale": [
                          [
                            0,
                            "#0d0887"
                          ],
                          [
                            0.1111111111111111,
                            "#46039f"
                          ],
                          [
                            0.2222222222222222,
                            "#7201a8"
                          ],
                          [
                            0.3333333333333333,
                            "#9c179e"
                          ],
                          [
                            0.4444444444444444,
                            "#bd3786"
                          ],
                          [
                            0.5555555555555556,
                            "#d8576b"
                          ],
                          [
                            0.6666666666666666,
                            "#ed7953"
                          ],
                          [
                            0.7777777777777778,
                            "#fb9f3a"
                          ],
                          [
                            0.8888888888888888,
                            "#fdca26"
                          ],
                          [
                            1,
                            "#f0f921"
                          ]
                        ],
                        "type": "surface"
                      }
                    ],
                    "table": [
                      {
                        "cells": {
                          "fill": {
                            "color": "#EBF0F8"
                          },
                          "line": {
                            "color": "white"
                          }
                        },
                        "header": {
                          "fill": {
                            "color": "#C8D4E3"
                          },
                          "line": {
                            "color": "white"
                          }
                        },
                        "type": "table"
                      }
                    ]
                  },
                  "layout": {
                    "annotationdefaults": {
                      "arrowcolor": "#2a3f5f",
                      "arrowhead": 0,
                      "arrowwidth": 1
                    },
                    "autotypenumbers": "strict",
                    "coloraxis": {
                      "colorbar": {
                        "outlinewidth": 0,
                        "ticks": ""
                      }
                    },
                    "colorscale": {
                      "diverging": [
                        [
                          0,
                          "#8e0152"
                        ],
                        [
                          0.1,
                          "#c51b7d"
                        ],
                        [
                          0.2,
                          "#de77ae"
                        ],
                        [
                          0.3,
                          "#f1b6da"
                        ],
                        [
                          0.4,
                          "#fde0ef"
                        ],
                        [
                          0.5,
                          "#f7f7f7"
                        ],
                        [
                          0.6,
                          "#e6f5d0"
                        ],
                        [
                          0.7,
                          "#b8e186"
                        ],
                        [
                          0.8,
                          "#7fbc41"
                        ],
                        [
                          0.9,
                          "#4d9221"
                        ],
                        [
                          1,
                          "#276419"
                        ]
                      ],
                      "sequential": [
                        [
                          0,
                          "#0d0887"
                        ],
                        [
                          0.1111111111111111,
                          "#46039f"
                        ],
                        [
                          0.2222222222222222,
                          "#7201a8"
                        ],
                        [
                          0.3333333333333333,
                          "#9c179e"
                        ],
                        [
                          0.4444444444444444,
                          "#bd3786"
                        ],
                        [
                          0.5555555555555556,
                          "#d8576b"
                        ],
                        [
                          0.6666666666666666,
                          "#ed7953"
                        ],
                        [
                          0.7777777777777778,
                          "#fb9f3a"
                        ],
                        [
                          0.8888888888888888,
                          "#fdca26"
                        ],
                        [
                          1,
                          "#f0f921"
                        ]
                      ],
                      "sequentialminus": [
                        [
                          0,
                          "#0d0887"
                        ],
                        [
                          0.1111111111111111,
                          "#46039f"
                        ],
                        [
                          0.2222222222222222,
                          "#7201a8"
                        ],
                        [
                          0.3333333333333333,
                          "#9c179e"
                        ],
                        [
                          0.4444444444444444,
                          "#bd3786"
                        ],
                        [
                          0.5555555555555556,
                          "#d8576b"
                        ],
                        [
                          0.6666666666666666,
                          "#ed7953"
                        ],
                        [
                          0.7777777777777778,
                          "#fb9f3a"
                        ],
                        [
                          0.8888888888888888,
                          "#fdca26"
                        ],
                        [
                          1,
                          "#f0f921"
                        ]
                      ]
                    },
                    "colorway": [
                      "#636efa",
                      "#EF553B",
                      "#00cc96",
                      "#ab63fa",
                      "#FFA15A",
                      "#19d3f3",
                      "#FF6692",
                      "#B6E880",
                      "#FF97FF",
                      "#FECB52"
                    ],
                    "font": {
                      "color": "#2a3f5f"
                    },
                    "geo": {
                      "bgcolor": "white",
                      "lakecolor": "white",
                      "landcolor": "#E5ECF6",
                      "showlakes": true,
                      "showland": true,
                      "subunitcolor": "white"
                    },
                    "hoverlabel": {
                      "align": "left"
                    },
                    "hovermode": "closest",
                    "mapbox": {
                      "style": "light"
                    },
                    "paper_bgcolor": "white",
                    "plot_bgcolor": "#E5ECF6",
                    "polar": {
                      "angularaxis": {
                        "gridcolor": "white",
                        "linecolor": "white",
                        "ticks": ""
                      },
                      "bgcolor": "#E5ECF6",
                      "radialaxis": {
                        "gridcolor": "white",
                        "linecolor": "white",
                        "ticks": ""
                      }
                    },
                    "scene": {
                      "xaxis": {
                        "backgroundcolor": "#E5ECF6",
                        "gridcolor": "white",
                        "gridwidth": 2,
                        "linecolor": "white",
                        "showbackground": true,
                        "ticks": "",
                        "zerolinecolor": "white"
                      },
                      "yaxis": {
                        "backgroundcolor": "#E5ECF6",
                        "gridcolor": "white",
                        "gridwidth": 2,
                        "linecolor": "white",
                        "showbackground": true,
                        "ticks": "",
                        "zerolinecolor": "white"
                      },
                      "zaxis": {
                        "backgroundcolor": "#E5ECF6",
                        "gridcolor": "white",
                        "gridwidth": 2,
                        "linecolor": "white",
                        "showbackground": true,
                        "ticks": "",
                        "zerolinecolor": "white"
                      }
                    },
                    "shapedefaults": {
                      "line": {
                        "color": "#2a3f5f"
                      }
                    },
                    "ternary": {
                      "aaxis": {
                        "gridcolor": "white",
                        "linecolor": "white",
                        "ticks": ""
                      },
                      "baxis": {
                        "gridcolor": "white",
                        "linecolor": "white",
                        "ticks": ""
                      },
                      "bgcolor": "#E5ECF6",
                      "caxis": {
                        "gridcolor": "white",
                        "linecolor": "white",
                        "ticks": ""
                      }
                    },
                    "title": {
                      "x": 0.05
                    },
                    "xaxis": {
                      "automargin": true,
                      "gridcolor": "white",
                      "linecolor": "white",
                      "ticks": "",
                      "title": {
                        "standoff": 15
                      },
                      "zerolinecolor": "white",
                      "zerolinewidth": 2
                    },
                    "yaxis": {
                      "automargin": true,
                      "gridcolor": "white",
                      "linecolor": "white",
                      "ticks": "",
                      "title": {
                        "standoff": 15
                      },
                      "zerolinecolor": "white",
                      "zerolinewidth": 2
                    }
                  }
                },
                "title": {
                  "text": "Dependence of MSE and number of principal components"
                },
                "xaxis": {
                  "title": {
                    "text": "Number of principal components"
                  }
                },
                "yaxis": {
                  "title": {
                    "text": "MSE"
                  }
                }
              }
            }
          },
          "metadata": {},
          "output_type": "display_data"
        }
      ],
      "source": [
        "trace = go.Scatter(x = losage[:, 0], y = losage[:, 1], mode='markers', marker=dict(color='red'))\n",
        "fig = go.Figure(trace)\n",
        "fig.update_layout(title=\"Dependence of MSE and number of principal components\",\n",
        "                  xaxis_title=\"Number of principal components\",\n",
        "                  yaxis_title=\"MSE\")\n",
        "fig.show()\n"
      ]
    }
  ],
  "metadata": {
    "colab": {
      "provenance": []
    },
    "kernelspec": {
      "display_name": "Python 3",
      "name": "python3"
    },
    "language_info": {
      "codemirror_mode": {
        "name": "ipython",
        "version": 3
      },
      "file_extension": ".py",
      "mimetype": "text/x-python",
      "name": "python",
      "nbconvert_exporter": "python",
      "pygments_lexer": "ipython3",
      "version": "3.10.6"
    },
    "widgets": {
      "application/vnd.jupyter.widget-state+json": {
        "170e6020f56d49ae9fbed55cbff3b9b5": {
          "model_module": "@jupyter-widgets/base",
          "model_module_version": "1.2.0",
          "model_name": "LayoutModel",
          "state": {
            "_model_module": "@jupyter-widgets/base",
            "_model_module_version": "1.2.0",
            "_model_name": "LayoutModel",
            "_view_count": null,
            "_view_module": "@jupyter-widgets/base",
            "_view_module_version": "1.2.0",
            "_view_name": "LayoutView",
            "align_content": null,
            "align_items": null,
            "align_self": null,
            "border": null,
            "bottom": null,
            "display": null,
            "flex": null,
            "flex_flow": null,
            "grid_area": null,
            "grid_auto_columns": null,
            "grid_auto_flow": null,
            "grid_auto_rows": null,
            "grid_column": null,
            "grid_gap": null,
            "grid_row": null,
            "grid_template_areas": null,
            "grid_template_columns": null,
            "grid_template_rows": null,
            "height": null,
            "justify_content": null,
            "justify_items": null,
            "left": null,
            "margin": null,
            "max_height": null,
            "max_width": null,
            "min_height": null,
            "min_width": null,
            "object_fit": null,
            "object_position": null,
            "order": null,
            "overflow": null,
            "overflow_x": null,
            "overflow_y": null,
            "padding": null,
            "right": null,
            "top": null,
            "visibility": null,
            "width": null
          }
        },
        "3ae966636a8b4156bbfffa797618a512": {
          "model_module": "@jupyter-widgets/base",
          "model_module_version": "1.2.0",
          "model_name": "LayoutModel",
          "state": {
            "_model_module": "@jupyter-widgets/base",
            "_model_module_version": "1.2.0",
            "_model_name": "LayoutModel",
            "_view_count": null,
            "_view_module": "@jupyter-widgets/base",
            "_view_module_version": "1.2.0",
            "_view_name": "LayoutView",
            "align_content": null,
            "align_items": null,
            "align_self": null,
            "border": null,
            "bottom": null,
            "display": null,
            "flex": null,
            "flex_flow": null,
            "grid_area": null,
            "grid_auto_columns": null,
            "grid_auto_flow": null,
            "grid_auto_rows": null,
            "grid_column": null,
            "grid_gap": null,
            "grid_row": null,
            "grid_template_areas": null,
            "grid_template_columns": null,
            "grid_template_rows": null,
            "height": null,
            "justify_content": null,
            "justify_items": null,
            "left": null,
            "margin": null,
            "max_height": null,
            "max_width": null,
            "min_height": null,
            "min_width": null,
            "object_fit": null,
            "object_position": null,
            "order": null,
            "overflow": null,
            "overflow_x": null,
            "overflow_y": null,
            "padding": null,
            "right": null,
            "top": null,
            "visibility": null,
            "width": null
          }
        },
        "4359063566d240aeb0c5dd602b5404ce": {
          "model_module": "@jupyter-widgets/base",
          "model_module_version": "1.2.0",
          "model_name": "LayoutModel",
          "state": {
            "_model_module": "@jupyter-widgets/base",
            "_model_module_version": "1.2.0",
            "_model_name": "LayoutModel",
            "_view_count": null,
            "_view_module": "@jupyter-widgets/base",
            "_view_module_version": "1.2.0",
            "_view_name": "LayoutView",
            "align_content": null,
            "align_items": null,
            "align_self": null,
            "border": null,
            "bottom": null,
            "display": null,
            "flex": null,
            "flex_flow": null,
            "grid_area": null,
            "grid_auto_columns": null,
            "grid_auto_flow": null,
            "grid_auto_rows": null,
            "grid_column": null,
            "grid_gap": null,
            "grid_row": null,
            "grid_template_areas": null,
            "grid_template_columns": null,
            "grid_template_rows": null,
            "height": null,
            "justify_content": null,
            "justify_items": null,
            "left": null,
            "margin": null,
            "max_height": null,
            "max_width": null,
            "min_height": null,
            "min_width": null,
            "object_fit": null,
            "object_position": null,
            "order": null,
            "overflow": null,
            "overflow_x": null,
            "overflow_y": null,
            "padding": null,
            "right": null,
            "top": null,
            "visibility": null,
            "width": null
          }
        },
        "56eddbeb75954842b7d6acbb3c060c5a": {
          "model_module": "@jupyter-widgets/controls",
          "model_module_version": "1.5.0",
          "model_name": "VBoxModel",
          "state": {
            "_dom_classes": [
              "widget-interact"
            ],
            "_model_module": "@jupyter-widgets/controls",
            "_model_module_version": "1.5.0",
            "_model_name": "VBoxModel",
            "_view_count": null,
            "_view_module": "@jupyter-widgets/controls",
            "_view_module_version": "1.5.0",
            "_view_name": "VBoxView",
            "box_style": "",
            "children": [
              "IPY_MODEL_6c9072c4c4c640cfb85c264d42ebac79",
              "IPY_MODEL_66ea6cdca66c4f3ebf31b98c7580ba5b"
            ],
            "layout": "IPY_MODEL_170e6020f56d49ae9fbed55cbff3b9b5"
          }
        },
        "66ea6cdca66c4f3ebf31b98c7580ba5b": {
          "model_module": "@jupyter-widgets/output",
          "model_module_version": "1.0.0",
          "model_name": "OutputModel",
          "state": {
            "_dom_classes": [],
            "_model_module": "@jupyter-widgets/output",
            "_model_module_version": "1.0.0",
            "_model_name": "OutputModel",
            "_view_count": null,
            "_view_module": "@jupyter-widgets/output",
            "_view_module_version": "1.0.0",
            "_view_name": "OutputView",
            "layout": "IPY_MODEL_4359063566d240aeb0c5dd602b5404ce",
            "msg_id": "",
            "outputs": [
              {
                "data": {
                  "image/png": "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\n",
                  "text/plain": "<Figure size 640x480 with 1 Axes>"
                },
                "metadata": {},
                "output_type": "display_data"
              }
            ]
          }
        },
        "6c9072c4c4c640cfb85c264d42ebac79": {
          "model_module": "@jupyter-widgets/controls",
          "model_module_version": "1.5.0",
          "model_name": "IntSliderModel",
          "state": {
            "_dom_classes": [],
            "_model_module": "@jupyter-widgets/controls",
            "_model_module_version": "1.5.0",
            "_model_name": "IntSliderModel",
            "_view_count": null,
            "_view_module": "@jupyter-widgets/controls",
            "_view_module_version": "1.5.0",
            "_view_name": "IntSliderView",
            "continuous_update": true,
            "description": "num_components",
            "description_tooltip": null,
            "disabled": false,
            "layout": "IPY_MODEL_3ae966636a8b4156bbfffa797618a512",
            "max": 252,
            "min": 1,
            "orientation": "horizontal",
            "readout": true,
            "readout_format": "d",
            "step": 1,
            "style": "IPY_MODEL_ff382ee3b0444dbea85e35465c3922b1",
            "value": 10
          }
        },
        "ff382ee3b0444dbea85e35465c3922b1": {
          "model_module": "@jupyter-widgets/controls",
          "model_module_version": "1.5.0",
          "model_name": "SliderStyleModel",
          "state": {
            "_model_module": "@jupyter-widgets/controls",
            "_model_module_version": "1.5.0",
            "_model_name": "SliderStyleModel",
            "_view_count": null,
            "_view_module": "@jupyter-widgets/base",
            "_view_module_version": "1.2.0",
            "_view_name": "StyleView",
            "description_width": "",
            "handle_color": null
          }
        }
      }
    }
  },
  "nbformat": 4,
  "nbformat_minor": 0
}
